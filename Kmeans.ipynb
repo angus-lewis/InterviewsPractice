{
 "cells": [
  {
   "cell_type": "code",
   "execution_count": 66,
   "metadata": {},
   "outputs": [],
   "source": [
    "import numpy as np "
   ]
  },
  {
   "cell_type": "code",
   "execution_count": 67,
   "metadata": {},
   "outputs": [],
   "source": [
    "def Kmeans(x,K):\n",
    "    means = np.random.rand(K)\n",
    "    xSize = len(x)\n",
    "    NIters = 100\n",
    "    idxArray = np.zeros((xSize,K), dtype=bool)\n",
    "    for N in range(0,NIters):\n",
    "        for i in range(0,xSize):\n",
    "            currSmallestDist = abs(x[i] - means[0])\n",
    "            currSmallestIdx = 0\n",
    "            for k in range(1,K):\n",
    "                temp = abs(x[i] - means[k])\n",
    "                if temp < currSmallestDist:\n",
    "                    currSmallestDist = temp\n",
    "                    currSmallestIdx = k\n",
    "            idxArray[i,currSmallestIdx] = True\n",
    "        for k in range(1,K):\n",
    "            currIdx = idxArray[:,k]\n",
    "            means[k] = sum(x[currIdx])/sum(currIdx)\n",
    "    return means\n",
    "\n",
    "        "
   ]
  },
  {
   "cell_type": "code",
   "execution_count": 68,
   "metadata": {},
   "outputs": [
    {
     "data": {
      "text/plain": [
       "array([0.73244235, 0.34715948, 0.86624092])"
      ]
     },
     "execution_count": 68,
     "metadata": {},
     "output_type": "execute_result"
    }
   ],
   "source": [
    "Kmeans(np.random.rand(10000),3)"
   ]
  },
  {
   "cell_type": "code",
   "execution_count": 41,
   "metadata": {},
   "outputs": [
    {
     "data": {
      "text/plain": [
       "100"
      ]
     },
     "execution_count": 41,
     "metadata": {},
     "output_type": "execute_result"
    }
   ],
   "source": [
    "len(np.random.rand(100))"
   ]
  },
  {
   "cell_type": "code",
   "execution_count": 10,
   "metadata": {},
   "outputs": [],
   "source": [
    "?np.array"
   ]
  },
  {
   "cell_type": "code",
   "execution_count": null,
   "metadata": {},
   "outputs": [],
   "source": []
  }
 ],
 "metadata": {
  "kernelspec": {
   "display_name": "Python 3",
   "language": "python",
   "name": "python3"
  },
  "language_info": {
   "codemirror_mode": {
    "name": "ipython",
    "version": 3
   },
   "file_extension": ".py",
   "mimetype": "text/x-python",
   "name": "python",
   "nbconvert_exporter": "python",
   "pygments_lexer": "ipython3",
   "version": "3.7.3"
  }
 },
 "nbformat": 4,
 "nbformat_minor": 2
}

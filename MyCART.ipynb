{
 "cells": [
  {
   "cell_type": "code",
   "execution_count": 55,
   "metadata": {},
   "outputs": [],
   "source": [
    "import numpy as np"
   ]
  },
  {
   "cell_type": "code",
   "execution_count": 157,
   "metadata": {},
   "outputs": [],
   "source": [
    "f = open(\"SMSSpamCollection\",\"r\")\n",
    "Y = [x.split()[0] for x in f]\n",
    "\n",
    "stopwords = ['a', 'about', 'above', 'across', 'after', 'afterwards']\n",
    "stopwords += ['again', 'against', 'all', 'almost', 'alone', 'along']\n",
    "stopwords += ['already', 'also', 'although', 'always', 'am', 'among']\n",
    "stopwords += ['amongst', 'amoungst', 'amount', 'an', 'and', 'another']\n",
    "stopwords += ['any', 'anyhow', 'anyone', 'anything', 'anyway', 'anywhere']\n",
    "stopwords += ['are', 'around', 'as', 'at', 'back', 'be', 'became']\n",
    "stopwords += ['because', 'become', 'becomes', 'becoming', 'been']\n",
    "stopwords += ['before', 'beforehand', 'behind', 'being', 'below']\n",
    "stopwords += ['beside', 'besides', 'between', 'beyond', 'bill', 'both']\n",
    "stopwords += ['bottom', 'but', 'by', 'call', 'can', 'cannot', 'cant']\n",
    "stopwords += ['co', 'computer', 'con', 'could', 'couldnt', 'cry', 'de']\n",
    "stopwords += ['describe', 'detail', 'did', 'do', 'done', 'down', 'due']\n",
    "stopwords += ['during', 'each', 'eg', 'eight', 'either', 'eleven', 'else']\n",
    "stopwords += ['elsewhere', 'empty', 'enough', 'etc', 'even', 'ever']\n",
    "stopwords += ['every', 'everyone', 'everything', 'everywhere', 'except']\n",
    "stopwords += ['few', 'fifteen', 'fifty', 'fill', 'find', 'fire', 'first']\n",
    "stopwords += ['five', 'for', 'former', 'formerly', 'forty', 'found']\n",
    "stopwords += ['four', 'from', 'front', 'full', 'further', 'get', 'give']\n",
    "stopwords += ['go', 'had', 'has', 'hasnt', 'have', 'he', 'hence', 'her']\n",
    "stopwords += ['here', 'hereafter', 'hereby', 'herein', 'hereupon', 'hers']\n",
    "stopwords += ['herself', 'him', 'himself', 'his', 'how', 'however']\n",
    "stopwords += ['hundred', 'i', 'ie', 'if', 'in', 'inc', 'indeed']\n",
    "stopwords += ['interest', 'into', 'is', 'it', 'its', 'itself', 'keep']\n",
    "stopwords += ['last', 'latter', 'latterly', 'least', 'less', 'ltd', 'made']\n",
    "stopwords += ['many', 'may', 'me', 'meanwhile', 'might', 'mill', 'mine']\n",
    "stopwords += ['more', 'moreover', 'most', 'mostly', 'move', 'much']\n",
    "stopwords += ['must', 'my', 'myself', 'name', 'namely', 'neither', 'never']\n",
    "stopwords += ['nevertheless', 'next', 'nine', 'no', 'nobody', 'none']\n",
    "stopwords += ['noone', 'nor', 'not', 'nothing', 'now', 'nowhere', 'of']\n",
    "stopwords += ['off', 'often', 'on','once', 'one', 'only', 'onto', 'or']\n",
    "stopwords += ['other', 'others', 'otherwise', 'our', 'ours', 'ourselves']\n",
    "stopwords += ['out', 'over', 'own', 'part', 'per', 'perhaps', 'please']\n",
    "stopwords += ['put', 'rather', 're', 's', 'same', 'see', 'seem', 'seemed']\n",
    "stopwords += ['seeming', 'seems', 'serious', 'several', 'she', 'should']\n",
    "stopwords += ['show', 'side', 'since', 'sincere', 'six', 'sixty', 'so']\n",
    "stopwords += ['some', 'somehow', 'someone', 'something', 'sometime']\n",
    "stopwords += ['sometimes', 'somewhere', 'still', 'such', 'system', 'take']\n",
    "stopwords += ['ten', 'than', 'that', 'the', 'their', 'them', 'themselves']\n",
    "stopwords += ['then', 'thence', 'there', 'thereafter', 'thereby']\n",
    "stopwords += ['therefore', 'therein', 'thereupon', 'these', 'they']\n",
    "stopwords += ['thick', 'thin', 'third', 'this', 'those', 'though', 'three']\n",
    "stopwords += ['three', 'through', 'throughout', 'thru', 'thus', 'to']\n",
    "stopwords += ['together', 'too', 'top', 'toward', 'towards', 'twelve']\n",
    "stopwords += ['twenty', 'two', 'un', 'under', 'until', 'up', 'upon']\n",
    "stopwords += ['us', 'very', 'via', 'was', 'we', 'well', 'were', 'what']\n",
    "stopwords += ['whatever', 'when', 'whence', 'whenever', 'where']\n",
    "stopwords += ['whereafter', 'whereas', 'whereby', 'wherein', 'whereupon']\n",
    "stopwords += ['wherever', 'whether', 'which', 'while', 'whither', 'who']\n",
    "stopwords += ['whoever', 'whole', 'whom', 'whose', 'why', 'will', 'with']\n",
    "stopwords += ['within', 'without', 'would', 'yet', 'you', 'your']\n",
    "stopwords += ['yours', 'yourself', 'yourselves', 'ham', 'spam']\n",
    "\n",
    "def removeStopwords(wordlist, stopwords):\n",
    "    return [w for w in wordlist if w not in stopwords]\n",
    "\n",
    "punctuations = '''!()-[]{};:'\"\\,<>./?@#$%^&*_~'''\n",
    "\n",
    "f = open(\"SMSSpamCollection\",\"r\").read()\n",
    "fnopunct = \"\"\n",
    "for char in f:\n",
    "    if char not in punctuations:\n",
    "        fnopunct = fnopunct + char\n",
    "\n",
    "fnopunct = fnopunct.lower()\n",
    "wordlist = fnopunct.split()\n",
    "wordlist = removeStopwords(wordlist, stopwords)\n",
    "uniquewords = set(wordlist)\n",
    "\n",
    "wordfreq = []\n",
    "wordfreq = [int(wordlist.count(w)) for w in uniquewords] # count does not do qhat we want but it will do for now,\n",
    "# count seems to count words within words i.e. \"ok joking\".count(\"ok\") = 2\n"
   ]
  },
  {
   "cell_type": "code",
   "execution_count": 182,
   "metadata": {},
   "outputs": [],
   "source": [
    "f = open(\"SMSSpamCollection\",\"r\")\n",
    "X = [x.lower().split()[1:] for x in f]\n",
    "for c in range(0,len(X)):\n",
    "    nopunct = \"\"\n",
    "    for char in \" \".join(X[c]):\n",
    "        if char not in punctuations:\n",
    "            nopunct = nopunct + char\n",
    "    X[c] = nopunct\n"
   ]
  },
  {
   "cell_type": "code",
   "execution_count": 188,
   "metadata": {},
   "outputs": [
    {
     "data": {
      "text/plain": [
       "array([['pls', '109'],\n",
       "       ['dear', '110'],\n",
       "       ['great', '111'],\n",
       "       ['hey', '111'],\n",
       "       ['claim', '113'],\n",
       "       ['oh', '113'],\n",
       "       ['week', '113'],\n",
       "       ['night', '115'],\n",
       "       ['phone', '125'],\n",
       "       ['da', '131'],\n",
       "       ['think', '132'],\n",
       "       ['hi', '133'],\n",
       "       ['later', '134'],\n",
       "       ['new', '136'],\n",
       "       ['tell', '137'],\n",
       "       ['mobile', '138'],\n",
       "       ['today', '141'],\n",
       "       ['reply', '144'],\n",
       "       ['n', '146'],\n",
       "       ['stop', '152'],\n",
       "       ['r', '153'],\n",
       "       ['sorry', '156'],\n",
       "       ['lor', '160'],\n",
       "       ['home', '162'],\n",
       "       ['txt', '163'],\n",
       "       ['need', '166'],\n",
       "       ['ü', '169'],\n",
       "       ['going', '171'],\n",
       "       ['text', '188'],\n",
       "       ['send', '191'],\n",
       "       ['want', '193'],\n",
       "       ['love', '199'],\n",
       "       ['day', '203'],\n",
       "       ['time', '208'],\n",
       "       ['come', '229'],\n",
       "       ['good', '236'],\n",
       "       ['ill', '239'],\n",
       "       ['got', '239'],\n",
       "       ['like', '244'],\n",
       "       ['know', '257'],\n",
       "       ['free', '275'],\n",
       "       ['ltgt', '276'],\n",
       "       ['ok', '278'],\n",
       "       ['dont', '287'],\n",
       "       ['4', '293'],\n",
       "       ['just', '368'],\n",
       "       ['ur', '390'],\n",
       "       ['im', '464'],\n",
       "       ['2', '482'],\n",
       "       ['u', '1132']], dtype='<U52')"
      ]
     },
     "execution_count": 188,
     "metadata": {},
     "output_type": "execute_result"
    }
   ],
   "source": [
    "wordfreq = np.array(wordfreq)\n",
    "uniquewords = np.array(list(uniquewords))\n",
    "wordarray = np.vstack((uniquewords, wordfreq)).transpose()\n",
    "\n",
    "idx = np.argsort(wordarray[:, 1].astype(np.int))\n",
    "sortedarray = wordarray[idx]\n",
    "nwords = 50\n",
    "mostcommon = sortedarray[len(uniquewords)-(nwords):len(uniquewords)]\n",
    "\n",
    "mostcommon"
   ]
  },
  {
   "cell_type": "code",
   "execution_count": 223,
   "metadata": {},
   "outputs": [],
   "source": [
    "X[1]\n",
    "XArray = np.zeros((len(X),nwords))\n",
    "\n",
    "for c in range(0,len(X)):\n",
    "    XArray[c] = [int(X[c].count(w)) for w in mostcommon[:,0]]\n",
    "\n",
    "Y = np.array(Y)\n"
   ]
  },
  {
   "cell_type": "code",
   "execution_count": 224,
   "metadata": {},
   "outputs": [
    {
     "data": {
      "text/plain": [
       "array([[0., 0., 1., ..., 0., 0., 4.],\n",
       "       [0., 0., 0., ..., 0., 0., 1.],\n",
       "       [0., 0., 0., ..., 0., 5., 2.],\n",
       "       ...,\n",
       "       [0., 0., 0., ..., 0., 0., 1.],\n",
       "       [0., 0., 0., ..., 0., 0., 4.],\n",
       "       [0., 0., 0., ..., 0., 0., 1.]])"
      ]
     },
     "execution_count": 224,
     "metadata": {},
     "output_type": "execute_result"
    }
   ],
   "source": [
    "XArray"
   ]
  },
  {
   "cell_type": "code",
   "execution_count": 288,
   "metadata": {},
   "outputs": [
    {
     "name": "stdout",
     "output_type": "stream",
     "text": [
      "0\n",
      "18\n"
     ]
    },
    {
     "name": "stderr",
     "output_type": "stream",
     "text": [
      "/Users/a1627293/anaconda3/lib/python3.7/site-packages/ipykernel_launcher.py:23: RuntimeWarning: invalid value encountered in long_scalars\n"
     ]
    },
    {
     "name": "stdout",
     "output_type": "stream",
     "text": [
      "0\n",
      "4\n"
     ]
    }
   ],
   "source": [
    "sz1,sz2 = XArray.shape\n",
    "maximums = [max(x) for x in XArray.transpose()]\n",
    "\n",
    "biggest_idx = len(Y)\n",
    "region = np.array([True]*len(Y))\n",
    "splits = []\n",
    "for depth in [1,2]:\n",
    "    if (depth == 1) or not(sum(region) == 0 or sum(region) == len(idx)):\n",
    "        S = \"Inf\"\n",
    "        V = \"Inf\"\n",
    "        Xsubset = XArray[region,:]\n",
    "        Ysubset = Y[region]\n",
    "        gini_best = 1\n",
    "        for var in range(0,sz2):\n",
    "            for s in range(0,int(maximums[var])):\n",
    "                idx = Xsubset[:,var] < s + 0.5\n",
    "                nspam_R1 = sum(Ysubset[idx] == \"spam\")\n",
    "                n_R1 = sum(idx)\n",
    "                # nham_R1 = n_R1 - nspam_R1\n",
    "                nspam_R2 = sum(Ysubset[1-idx] == \"spam\")\n",
    "                n_R2 = sum(1-idx)\n",
    "                # nham_R2 = n_R2 - nspam_R2\n",
    "                prop_spam_R1 = nspam_R1/n_R1\n",
    "                prop_spam_R2 = nspam_R2/n_R2\n",
    "\n",
    "                gini_R1 = 2*prop_spam_R1*(1-prop_spam_R1)\n",
    "                gini_R2 = 2*prop_spam_R2*(1-prop_spam_R2)\n",
    "                gini = gini_R1 + gini_R2\n",
    "                if gini < gini_best:\n",
    "                    S = s\n",
    "                    V = var\n",
    "                    gini_best = gini\n",
    "                    region = idx\n",
    "        print(S)\n",
    "        print(V)\n",
    "    splits.append([(S,V)])\n",
    "        \n"
   ]
  },
  {
   "cell_type": "code",
   "execution_count": 289,
   "metadata": {},
   "outputs": [],
   "source": [
    "a = []"
   ]
  },
  {
   "cell_type": "code",
   "execution_count": 292,
   "metadata": {},
   "outputs": [],
   "source": [
    "a.append([1])"
   ]
  },
  {
   "cell_type": "code",
   "execution_count": 293,
   "metadata": {},
   "outputs": [
    {
     "data": {
      "text/plain": [
       "[1, [1]]"
      ]
     },
     "execution_count": 293,
     "metadata": {},
     "output_type": "execute_result"
    }
   ],
   "source": [
    "a"
   ]
  },
  {
   "cell_type": "code",
   "execution_count": 273,
   "metadata": {},
   "outputs": [
    {
     "data": {
      "text/plain": [
       "0.0"
      ]
     },
     "execution_count": 273,
     "metadata": {},
     "output_type": "execute_result"
    }
   ],
   "source": [
    "gini_R2"
   ]
  },
  {
   "cell_type": "code",
   "execution_count": null,
   "metadata": {},
   "outputs": [],
   "source": []
  }
 ],
 "metadata": {
  "kernelspec": {
   "display_name": "Python 3",
   "language": "python",
   "name": "python3"
  },
  "language_info": {
   "codemirror_mode": {
    "name": "ipython",
    "version": 3
   },
   "file_extension": ".py",
   "mimetype": "text/x-python",
   "name": "python",
   "nbconvert_exporter": "python",
   "pygments_lexer": "ipython3",
   "version": "3.7.3"
  }
 },
 "nbformat": 4,
 "nbformat_minor": 2
}
